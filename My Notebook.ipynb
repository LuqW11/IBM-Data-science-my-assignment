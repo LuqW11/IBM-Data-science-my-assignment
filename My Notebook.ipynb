{
 "cells": [
  {
   "cell_type": "markdown",
   "id": "abedaab4",
   "metadata": {},
   "source": [
    "# Data Science Tools and Ecosystem"
   ]
  },
  {
   "cell_type": "markdown",
   "id": "38b1308f",
   "metadata": {},
   "source": [
    "In this notebook, Data Science Tools and Ecosystem are summarized."
   ]
  },
  {
   "cell_type": "markdown",
   "id": "7fa25d25",
   "metadata": {},
   "source": [
    "Some of the popular languages that Data Scientists use are:\n",
    "1. Python \n",
    "2. R\n",
    "3. Java"
   ]
  },
  {
   "cell_type": "markdown",
   "id": "13c30670",
   "metadata": {},
   "source": [
    "Some of the commonly used libraries used by Data Scientists include\n",
    "1. ggplot\n",
    "2. matplotlib\n",
    "3. pandas\n",
    "4. numpy \n",
    "5. sickit-learn"
   ]
  },
  {
   "cell_type": "markdown",
   "id": "7ffc3a1b",
   "metadata": {},
   "source": [
    "|Data Science Tools|\n",
    "|-------------------|\n",
    "|Jupyter notebook/labs|\n",
    "|R programming language|\n",
    "|Python programming language|"
   ]
  },
  {
   "cell_type": "markdown",
   "id": "3187ea30",
   "metadata": {},
   "source": [
    "### Below are a few examples of evaluating arithmetic expressions in Python"
   ]
  },
  {
   "cell_type": "code",
   "execution_count": 4,
   "id": "c38b69e2",
   "metadata": {},
   "outputs": [
    {
     "name": "stdout",
     "output_type": "stream",
     "text": [
      "17\n"
     ]
    }
   ],
   "source": [
    "print((3*4)+5)"
   ]
  },
  {
   "cell_type": "code",
   "execution_count": 6,
   "id": "cb62736e",
   "metadata": {},
   "outputs": [
    {
     "name": "stdout",
     "output_type": "stream",
     "text": [
      "3.3333333333333335 Minutes\n"
     ]
    }
   ],
   "source": [
    "#This will convert 200 minutes to hours by diving by 60\n",
    "\n",
    "print(200/60,'Minutes')"
   ]
  },
  {
   "cell_type": "markdown",
   "id": "736343f0",
   "metadata": {},
   "source": [
    "__Objectives:__\n",
    "\n",
    "- List popular languages for Data Science:\n",
    "- List commonly used libraries by data scientists\n",
    "- Create a table \n",
    "- Evaluate simple expressions "
   ]
  },
  {
   "cell_type": "markdown",
   "id": "3425e5d1",
   "metadata": {},
   "source": [
    "## Author:\n",
    "Luqman W\n"
   ]
  },
  {
   "cell_type": "code",
   "execution_count": null,
   "id": "35b52eaf",
   "metadata": {},
   "outputs": [],
   "source": []
  }
 ],
 "metadata": {
  "kernelspec": {
   "display_name": "Python 3 (ipykernel)",
   "language": "python",
   "name": "python3"
  },
  "language_info": {
   "codemirror_mode": {
    "name": "ipython",
    "version": 3
   },
   "file_extension": ".py",
   "mimetype": "text/x-python",
   "name": "python",
   "nbconvert_exporter": "python",
   "pygments_lexer": "ipython3",
   "version": "3.10.9"
  }
 },
 "nbformat": 4,
 "nbformat_minor": 5
}
